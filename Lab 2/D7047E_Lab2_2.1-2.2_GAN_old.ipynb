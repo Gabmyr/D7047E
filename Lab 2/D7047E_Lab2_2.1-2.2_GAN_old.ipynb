{
 "cells": [
  {
   "cell_type": "code",
   "execution_count": 1,
   "metadata": {
    "id": "R5E7xJY1urkw"
   },
   "outputs": [
    {
     "name": "stdout",
     "output_type": "stream",
     "text": [
      "\u001b[33mWARNING: Running pip as the 'root' user can result in broken permissions and conflicting behaviour with the system package manager. It is recommended to use a virtual environment instead: https://pip.pypa.io/warnings/venv\u001b[0m\u001b[33m\n",
      "\u001b[0mRequirement already satisfied: torchvision in /usr/local/lib/python3.11/dist-packages (0.18.0)\n",
      "Requirement already satisfied: numpy in /usr/local/lib/python3.11/dist-packages (from torchvision) (1.26.4)\n",
      "Requirement already satisfied: torch==2.3.0 in /usr/local/lib/python3.11/dist-packages (from torchvision) (2.3.0)\n",
      "Requirement already satisfied: pillow!=8.3.*,>=5.3.0 in /usr/local/lib/python3.11/dist-packages (from torchvision) (10.3.0)\n",
      "Requirement already satisfied: filelock in /usr/local/lib/python3.11/dist-packages (from torch==2.3.0->torchvision) (3.13.4)\n",
      "Requirement already satisfied: typing-extensions>=4.8.0 in /usr/local/lib/python3.11/dist-packages (from torch==2.3.0->torchvision) (4.10.0)\n",
      "Requirement already satisfied: sympy in /usr/local/lib/python3.11/dist-packages (from torch==2.3.0->torchvision) (1.12)\n",
      "Requirement already satisfied: networkx in /usr/local/lib/python3.11/dist-packages (from torch==2.3.0->torchvision) (3.3)\n",
      "Requirement already satisfied: jinja2 in /usr/local/lib/python3.11/dist-packages (from torch==2.3.0->torchvision) (3.1.3)\n",
      "Requirement already satisfied: fsspec in /usr/local/lib/python3.11/dist-packages (from torch==2.3.0->torchvision) (2024.3.1)\n",
      "Requirement already satisfied: nvidia-cuda-nvrtc-cu12==12.1.105 in /usr/local/lib/python3.11/dist-packages (from torch==2.3.0->torchvision) (12.1.105)\n",
      "Requirement already satisfied: nvidia-cuda-runtime-cu12==12.1.105 in /usr/local/lib/python3.11/dist-packages (from torch==2.3.0->torchvision) (12.1.105)\n",
      "Requirement already satisfied: nvidia-cuda-cupti-cu12==12.1.105 in /usr/local/lib/python3.11/dist-packages (from torch==2.3.0->torchvision) (12.1.105)\n",
      "Requirement already satisfied: nvidia-cudnn-cu12==8.9.2.26 in /usr/local/lib/python3.11/dist-packages (from torch==2.3.0->torchvision) (8.9.2.26)\n",
      "Requirement already satisfied: nvidia-cublas-cu12==12.1.3.1 in /usr/local/lib/python3.11/dist-packages (from torch==2.3.0->torchvision) (12.1.3.1)\n",
      "Requirement already satisfied: nvidia-cufft-cu12==11.0.2.54 in /usr/local/lib/python3.11/dist-packages (from torch==2.3.0->torchvision) (11.0.2.54)\n",
      "Requirement already satisfied: nvidia-curand-cu12==10.3.2.106 in /usr/local/lib/python3.11/dist-packages (from torch==2.3.0->torchvision) (10.3.2.106)\n",
      "Requirement already satisfied: nvidia-cusolver-cu12==11.4.5.107 in /usr/local/lib/python3.11/dist-packages (from torch==2.3.0->torchvision) (11.4.5.107)\n",
      "Requirement already satisfied: nvidia-cusparse-cu12==12.1.0.106 in /usr/local/lib/python3.11/dist-packages (from torch==2.3.0->torchvision) (12.1.0.106)\n",
      "Requirement already satisfied: nvidia-nccl-cu12==2.20.5 in /usr/local/lib/python3.11/dist-packages (from torch==2.3.0->torchvision) (2.20.5)\n",
      "Requirement already satisfied: nvidia-nvtx-cu12==12.1.105 in /usr/local/lib/python3.11/dist-packages (from torch==2.3.0->torchvision) (12.1.105)\n",
      "Requirement already satisfied: triton==2.3.0 in /usr/local/lib/python3.11/dist-packages (from torch==2.3.0->torchvision) (2.3.0)\n",
      "Requirement already satisfied: nvidia-nvjitlink-cu12 in /usr/local/lib/python3.11/dist-packages (from nvidia-cusolver-cu12==11.4.5.107->torch==2.3.0->torchvision) (12.4.127)\n",
      "Requirement already satisfied: MarkupSafe>=2.0 in /usr/local/lib/python3.11/dist-packages (from jinja2->torch==2.3.0->torchvision) (2.1.5)\n",
      "Requirement already satisfied: mpmath>=0.19 in /usr/local/lib/python3.11/dist-packages (from sympy->torch==2.3.0->torchvision) (1.3.0)\n",
      "\u001b[33mWARNING: Running pip as the 'root' user can result in broken permissions and conflicting behaviour with the system package manager. It is recommended to use a virtual environment instead: https://pip.pypa.io/warnings/venv\u001b[0m\u001b[33m\n",
      "\u001b[0m"
     ]
    }
   ],
   "source": [
    "#Only needs to be run once\n",
    "#Currently getting error\n",
    "#\"WARNING: Running pip as the 'root' user can result in broken permissions and conflicting behaviour with the system package manager. It is recommended to use a virtual environment instead: https://pip.pypa.io/warnings/venv\"\n",
    "#Unsure how to setup new user\n",
    "!pip install -q torch numpy matplotlib tensorflow\n",
    "!pip install torchvision"
   ]
  },
  {
   "cell_type": "code",
   "execution_count": 2,
   "metadata": {
    "id": "LRzOZUSrtNq0"
   },
   "outputs": [],
   "source": [
    "\n",
    "\n",
    "import torch\n",
    "import torch.nn.functional as F\n",
    "import torch.optim as optim\n",
    "import matplotlib.pyplot as plt\n",
    "import matplotlib.gridspec as gridspec\n",
    "import os\n",
    "from torchvision import datasets, transforms\n",
    "#from tensorflow.examples.tutorials.mnist import input_data"
   ]
  },
  {
   "cell_type": "code",
   "execution_count": null,
   "metadata": {
    "colab": {
     "base_uri": "https://localhost:8080/"
    },
    "id": "94KBKRehujS1",
    "outputId": "1833a594-0486-4492-fd33-82e093129d2b"
   },
   "outputs": [],
   "source": [
    "# Check for GPU and set device\n",
    "device = torch.device('cuda' if torch.cuda.is_available() else 'cpu')\n",
    "print(device)\n",
    "# Load MNIST dataset\n",
    "mnist_trainset = datasets.MNIST(root='./data', train=True, download=True, transform=transforms.ToTensor())\n",
    "mnist_testset = datasets.MNIST(root='./data', train=False, download=True, transform=transforms.ToTensor())\n",
    "\n",
    "# Create data loaders\n",
    "train_loader = torch.utils.data.DataLoader(dataset=mnist_trainset, batch_size=64, shuffle=True)\n",
    "test_loader = torch.utils.data.DataLoader(dataset=mnist_testset, batch_size=64, shuffle=False)\n",
    "\n",
    "mb_size = 64\n",
    "Z_dim = 100\n",
    "X_dim = mnist_trainset[0][0].shape[1] * mnist_trainset[0][0].shape[2]  # should be 28*28 = 784\n",
    "h_dim = 128\n",
    "c = 0\n",
    "lr = 1e-3\n",
    "\n",
    "\n"
   ]
  },
  {
   "cell_type": "code",
   "execution_count": 4,
   "metadata": {
    "id": "j6f24qrsthUr"
   },
   "outputs": [],
   "source": [
    "def xavier_init(size):\n",
    "    in_dim = size[0]\n",
    "    xavier_stddev = 1. / torch.sqrt(torch.tensor(in_dim / 2., device=device))\n",
    "    return torch.nn.Parameter(torch.randn(*size, device=device) * xavier_stddev)"
   ]
  },
  {
   "cell_type": "code",
   "execution_count": 5,
   "metadata": {
    "id": "FjoWye5myRXa"
   },
   "outputs": [],
   "source": [
    "\"\"\" ==================== GENERATOR ======================== \"\"\"\n",
    "\n",
    "Wzh = xavier_init(size=[Z_dim, h_dim])\n",
    "bzh = torch.nn.Parameter(torch.zeros(h_dim, device=device))\n",
    "Whx = xavier_init(size=[h_dim, X_dim])\n",
    "bhx = torch.nn.Parameter(torch.zeros(X_dim, device=device))\n",
    "\n",
    "def G(z):\n",
    "    h = F.relu(torch.mm(z, Wzh) + bzh)\n",
    "    X = torch.sigmoid(torch.mm(h, Whx) + bhx)\n",
    "    return X"
   ]
  },
  {
   "cell_type": "code",
   "execution_count": 6,
   "metadata": {
    "id": "P8cJNqQ2y_8C"
   },
   "outputs": [],
   "source": [
    "\"\"\" ==================== DISCRIMINATOR ======================== \"\"\"\n",
    "\n",
    "Wxh = xavier_init(size=[X_dim, h_dim])\n",
    "bxh = torch.nn.Parameter(torch.zeros(h_dim, device=device))\n",
    "Why = xavier_init(size=[h_dim, 1])\n",
    "bhy = torch.nn.Parameter(torch.zeros(1, device=device))\n",
    "\n",
    "def D(X):\n",
    "    h = F.relu(torch.mm(X.view(X.size(0), -1), Wxh) + bxh)\n",
    "    y = torch.sigmoid(torch.mm(h, Why) + bhy)\n",
    "    return y\n",
    "\n",
    "G_params = [Wzh, bzh, Whx, bhx]\n",
    "D_params = [Wxh, bxh, Why, bhy]\n",
    "params = G_params + D_params\n"
   ]
  },
  {
   "cell_type": "code",
   "execution_count": null,
   "metadata": {
    "colab": {
     "base_uri": "https://localhost:8080/"
    },
    "id": "0nE0hGsry9Vd",
    "outputId": "eb22df69-0f96-470f-eb29-b7585042c3c2"
   },
   "outputs": [
    {
     "name": "stdout",
     "output_type": "stream",
     "text": [
      "Iter-0; D_loss: 0.008049117401242256; G_loss: 7.378349304199219\n",
      "Iter-100; D_loss: 0.8193799257278442; G_loss: 2.022839069366455\n",
      "Iter-200; D_loss: 0.7014672756195068; G_loss: 2.5554208755493164\n",
      "Iter-300; D_loss: 0.40103816986083984; G_loss: 2.9425840377807617\n",
      "Iter-400; D_loss: 0.39365285634994507; G_loss: 3.1927971839904785\n",
      "Iter-500; D_loss: 0.2689024806022644; G_loss: 3.6506948471069336\n",
      "Iter-600; D_loss: 3.5428504943847656; G_loss: 3.7231674194335938\n",
      "Iter-700; D_loss: 0.1865185797214508; G_loss: 3.1402945518493652\n",
      "Iter-800; D_loss: 0.2687574625015259; G_loss: 2.840707302093506\n",
      "Iter-900; D_loss: 0.35830408334732056; G_loss: 3.3787498474121094\n",
      "Iter-1000; D_loss: 0.10676257312297821; G_loss: 3.231506824493408\n",
      "Iter-1100; D_loss: 0.15382477641105652; G_loss: 3.278045177459717\n",
      "Iter-1200; D_loss: 0.1923561543226242; G_loss: 3.0635030269622803\n",
      "Iter-1300; D_loss: 0.13251742720603943; G_loss: 3.693588972091675\n",
      "Iter-1400; D_loss: 0.16421853005886078; G_loss: 3.7232770919799805\n",
      "Iter-1500; D_loss: 0.1779107004404068; G_loss: 4.007214546203613\n",
      "Iter-1600; D_loss: 0.046207379549741745; G_loss: 49.03948211669922\n",
      "Iter-1700; D_loss: 0.22354844212532043; G_loss: 3.251674175262451\n",
      "Iter-1800; D_loss: 0.0008336902828887105; G_loss: 7.924981117248535\n",
      "Iter-1900; D_loss: 0.0055643972009420395; G_loss: 8.084028244018555\n",
      "Iter-2000; D_loss: 0.7994486093521118; G_loss: 5.281831741333008\n",
      "Iter-2100; D_loss: 0.3460932970046997; G_loss: 3.6772613525390625\n",
      "Iter-2200; D_loss: 0.03362371027469635; G_loss: 6.9784440994262695\n",
      "Iter-2300; D_loss: 0.9404139518737793; G_loss: 3.927147388458252\n",
      "Iter-2400; D_loss: 0.01851261779665947; G_loss: 6.181098461151123\n",
      "Iter-2500; D_loss: 0.34922629594802856; G_loss: 3.962136745452881\n",
      "Iter-2600; D_loss: 0.07221559435129166; G_loss: 3.946124792098999\n",
      "Iter-2700; D_loss: 0.2574828267097473; G_loss: 3.509427547454834\n",
      "Iter-2800; D_loss: 0.1070660874247551; G_loss: 5.602785110473633\n",
      "Iter-2900; D_loss: 0.11470547318458557; G_loss: 7.38778829574585\n",
      "Iter-3000; D_loss: 0.022292131558060646; G_loss: 5.354817867279053\n",
      "Iter-3100; D_loss: 0.18577483296394348; G_loss: 7.088421821594238\n",
      "Iter-3200; D_loss: 0.006546554155647755; G_loss: 6.945948600769043\n",
      "Iter-3300; D_loss: 0.019211454316973686; G_loss: 3.6367926597595215\n",
      "Iter-3400; D_loss: 0.006941452156752348; G_loss: 6.527632236480713\n"
     ]
    }
   ],
   "source": [
    "\"\"\" ===================== TRAINING ======================== \"\"\"\n",
    "\n",
    "def reset_grad():\n",
    "    for p in params:\n",
    "        if p.grad is not None:\n",
    "            p.grad.data.zero_()\n",
    "\n",
    "G_solver = optim.Adam([Wzh, bzh, Whx, bhx], lr=lr)\n",
    "D_solver = optim.Adam([Wxh, bxh, Why, bhy], lr=lr)\n",
    "\n",
    "for it in range(10000):\n",
    "    for X, _ in train_loader:\n",
    "        current_batch_size = X.size(0)\n",
    "\n",
    "        z = torch.randn(current_batch_size, Z_dim, device=device)\n",
    "        ones_label = torch.ones(current_batch_size, 1, device=device)\n",
    "        zeros_label = torch.zeros(current_batch_size, 1, device=device)\n",
    "        X = X.to(device)\n",
    "\n",
    "        # Discriminator forward-loss-backward-update\n",
    "        G_sample = G(z)\n",
    "        G_sample = G_sample.to(device)\n",
    "        D_real = D(X)\n",
    "        D_real = D_real.to(device)\n",
    "        D_fake = D(G_sample)\n",
    "        D_fake = D_fake.to(device)\n",
    "\n",
    "        D_loss_real = F.binary_cross_entropy(D_real, ones_label)\n",
    "        D_loss_fake = F.binary_cross_entropy(D_fake, zeros_label)\n",
    "        D_loss = D_loss_real + D_loss_fake\n",
    "        D_loss = D_loss.to(device)\n",
    "\n",
    "        D_solver.zero_grad()\n",
    "        D_loss.backward()\n",
    "        D_solver.step()\n",
    "\n",
    "        # Generator forward-loss-backward-update\n",
    "        z = torch.randn(current_batch_size, Z_dim, device=device)\n",
    "        G_sample = G(z)\n",
    "        G_sample = G_sample.to(device)\n",
    "        D_fake = D(G_sample)\n",
    "        D_fake = D_fake.to(device)\n",
    "\n",
    "        G_loss = F.binary_cross_entropy(D_fake, ones_label)\n",
    "        G_loss = G_loss.to(device)\n",
    "\n",
    "        G_solver.zero_grad()\n",
    "        G_loss.backward()\n",
    "        G_solver.step()\n",
    "\n",
    "    # Print and plot every now and then\n",
    "    if it % 100 == 0:\n",
    "        print('Iter-{}; D_loss: {}; G_loss: {}'.format(it, D_loss.item(), G_loss.item()))\n",
    "\n",
    "        samples = G(z)\n",
    "        samples = samples.to(device)\n",
    "        samples = samples.detach().cpu().numpy()[:16]\n",
    "        fig = plt.figure(figsize=(4, 4))\n",
    "        gs = gridspec.GridSpec(4, 4)\n",
    "        gs.update(wspace=0.05, hspace=0.05)\n",
    "\n",
    "        for i, sample in enumerate(samples):\n",
    "            ax = plt.subplot(gs[i])\n",
    "            plt.axis('off')\n",
    "            ax.set_xticklabels([])\n",
    "            ax.set_yticklabels([])\n",
    "            ax.set_aspect('equal')\n",
    "            plt.imshow(sample.reshape(28, 28), cmap='Greys_r')\n",
    "\n",
    "        if not os.path.exists('out/'):\n",
    "            os.makedirs('out/')\n",
    "\n",
    "        plt.savefig('out/{}.png'.format(str(c).zfill(3)), bbox_inches='tight')\n",
    "        c += 1\n",
    "        plt.close(fig)"
   ]
  },
  {
   "cell_type": "code",
   "execution_count": null,
   "metadata": {},
   "outputs": [],
   "source": []
  }
 ],
 "metadata": {
  "colab": {
   "provenance": []
  },
  "kernelspec": {
   "display_name": "Python 3 (ipykernel)",
   "language": "python",
   "name": "python3"
  },
  "language_info": {
   "codemirror_mode": {
    "name": "ipython",
    "version": 3
   },
   "file_extension": ".py",
   "mimetype": "text/x-python",
   "name": "python",
   "nbconvert_exporter": "python",
   "pygments_lexer": "ipython3",
   "version": "3.11.0rc1"
  }
 },
 "nbformat": 4,
 "nbformat_minor": 4
}
