{
 "cells": [
  {
   "cell_type": "code",
   "execution_count": 2,
   "metadata": {
    "metadata": {}
   },
   "outputs": [],
   "source": [
    "import numpy as np\n",
    "\n",
    "g=0.7\n",
    "p=0.8\n",
    "H=100\n",
    "\n",
    "w = np.zeros((3,4))\n",
    "w[0,1] = -1\n",
    "w[0,3] = 1"
   ]
  },
  {
   "cell_type": "code",
   "execution_count": 4,
   "metadata": {
    "metadata": {}
   },
   "outputs": [],
   "source": [
    "pi = np.zeros((w.shape[0], w.shape[1], 3,3))\n",
    "\n",
    "pi[0,0] = np.array([[0., 0., 0.],\n",
    "                    [0., 0., 1-p],\n",
    "                    [0., p, 0.]])\n",
    "\n",
    "pi[1,0] = np.array([[0., 1-p, 0.],\n",
    "                    [0., 0., 0.],\n",
    "                    [0., p, 0.]])\n",
    "\n",
    "pi[2,0] = np.array([[0., 1-p, 0.],\n",
    "                    [0., 0., p],\n",
    "                    [0., 0., 0.]])\n",
    "\n",
    "pi[0,1] = np.array([[0., 0., 0.],\n",
    "                    [0., 1., 0.],\n",
    "                    [0., 0., 0.]])\n",
    "\n",
    "pi[1,1] = np.array([[0., 0., 0.],\n",
    "                    [0., 0., 0],\n",
    "                    [0., 0, 0.]])\n",
    "\n",
    "pi[2,1] = np.array([[0., 0., 0.],\n",
    "                    [1-p, 0., p],\n",
    "                    [0., 0., 0.]])\n",
    "\n",
    "pi[0,2] = np.array([[0., 0., 0.],\n",
    "                    [(1-p)/2, 0., p],\n",
    "                    [0., (1-p)/2, 0.]])\n",
    "\n",
    "pi[1,2] = np.array([[0., (1-p)/2, 0.],\n",
    "                    [0., 0., p],\n",
    "                    [0., (1-p)/2, 0.]])\n",
    "\n",
    "pi[2,2] = np.array([[0., (1-p)/2, 0.],\n",
    "                    [(1-p)/2, 0., p],\n",
    "                    [0., 0., 0.]])\n",
    "\n",
    "pi[0,3] = np.array([[0., 0., 0.],\n",
    "                    [0., 1., 0.],\n",
    "                    [0., 0., 0.]])\n",
    "\n",
    "pi[1,3] = np.array([[0., p, 0.],\n",
    "                    [(1-p)/2, 0., 0.],\n",
    "                    [0., (1-p)/2, 0.]])\n",
    "\n",
    "pi[2,3] = np.array([[0., p, 0.],\n",
    "                    [1-p, 0., 0.],\n",
    "                    [0., 0., 0.]])"
   ]
  },
  {
   "cell_type": "code",
   "execution_count": 5,
   "metadata": {
    "metadata": {}
   },
   "outputs": [],
   "source": [
    "w_rows = w.shape[0]\n",
    "w_columns = w.shape[1]\n",
    "\n",
    "values0 = np.copy(w)\n",
    "values0 = np.pad(values0, pad_width=1, mode='constant', constant_values=0)\n",
    "\n",
    "\n",
    "for step in range(H):\n",
    "    values1 = np.zeros_like(values0)\n",
    "    for r in range(w_rows):\n",
    "        for c in range(w_columns):\n",
    "            values0_k = values0[r:r+3,c:c+3]\n",
    "            \n",
    "            if pi[r,c][1,1] == 1:\n",
    "                gamma = 1\n",
    "            else:\n",
    "                gamma = g\n",
    "\n",
    "            v =  gamma * np.sum(values0_k*pi[r,c])\n",
    "            values1[r+1,c+1] = v\n",
    "    \n",
    "    values0 = np.copy(values1)"
   ]
  },
  {
   "cell_type": "code",
   "execution_count": 10,
   "metadata": {
    "metadata": {}
   },
   "outputs": [
    {
     "data": {
      "text/plain": [
       "array([[-0.1211, -1.    ,  0.5179,  1.    ],\n",
       "       [ 0.0337,  0.    ,  0.3979,  0.6144],\n",
       "       [ 0.0905,  0.1532,  0.2509,  0.3792]])"
      ]
     },
     "execution_count": 10,
     "metadata": {},
     "output_type": "execute_result"
    }
   ],
   "source": [
    "values = np.round(values1[1:4,1:5],4)\n",
    "values"
   ]
  }
 ],
 "metadata": {
  "kernelspec": {
   "display_name": "base",
   "language": "python",
   "name": "python3"
  },
  "language_info": {
   "codemirror_mode": {
    "name": "ipython",
    "version": 3
   },
   "file_extension": ".py",
   "mimetype": "text/x-python",
   "name": "python",
   "nbconvert_exporter": "python",
   "pygments_lexer": "ipython3",
   "version": "3.11.5"
  }
 },
 "nbformat": 4,
 "nbformat_minor": 2
}
